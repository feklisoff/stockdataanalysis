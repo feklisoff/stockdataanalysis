{
 "cells": [
  {
   "cell_type": "code",
   "execution_count": 70,
   "metadata": {
    "collapsed": true
   },
   "outputs": [],
   "source": [
    "%matplotlib inline\n",
    "import matplotlib.pyplot as plt\n",
    "import numpy as np\n",
    "import pandas as pd"
   ]
  },
  {
   "cell_type": "code",
   "execution_count": 71,
   "metadata": {
    "collapsed": true
   },
   "outputs": [],
   "source": [
    "PSA = pd.read_csv('prices-split-adjusted.csv')"
   ]
  },
  {
   "cell_type": "code",
   "execution_count": 72,
   "metadata": {},
   "outputs": [
    {
     "name": "stdout",
     "output_type": "stream",
     "text": [
      "<class 'pandas.core.frame.DataFrame'>\n",
      "RangeIndex: 851264 entries, 0 to 851263\n",
      "Data columns (total 7 columns):\n",
      "date      851264 non-null object\n",
      "symbol    851264 non-null object\n",
      "open      851264 non-null float64\n",
      "close     851264 non-null float64\n",
      "low       851264 non-null float64\n",
      "high      851264 non-null float64\n",
      "volume    851264 non-null float64\n",
      "dtypes: float64(5), object(2)\n",
      "memory usage: 45.5+ MB\n"
     ]
    }
   ],
   "source": [
    "PSA.info()"
   ]
  },
  {
   "cell_type": "code",
   "execution_count": 73,
   "metadata": {},
   "outputs": [
    {
     "data": {
      "text/html": [
       "<div>\n",
       "<style>\n",
       "    .dataframe thead tr:only-child th {\n",
       "        text-align: right;\n",
       "    }\n",
       "\n",
       "    .dataframe thead th {\n",
       "        text-align: left;\n",
       "    }\n",
       "\n",
       "    .dataframe tbody tr th {\n",
       "        vertical-align: top;\n",
       "    }\n",
       "</style>\n",
       "<table border=\"1\" class=\"dataframe\">\n",
       "  <thead>\n",
       "    <tr style=\"text-align: right;\">\n",
       "      <th></th>\n",
       "      <th>date</th>\n",
       "      <th>symbol</th>\n",
       "      <th>open</th>\n",
       "      <th>close</th>\n",
       "      <th>low</th>\n",
       "      <th>high</th>\n",
       "      <th>volume</th>\n",
       "    </tr>\n",
       "  </thead>\n",
       "  <tbody>\n",
       "    <tr>\n",
       "      <th>0</th>\n",
       "      <td>2016-01-05</td>\n",
       "      <td>WLTW</td>\n",
       "      <td>123.430000</td>\n",
       "      <td>125.839996</td>\n",
       "      <td>122.309998</td>\n",
       "      <td>126.250000</td>\n",
       "      <td>2163600.0</td>\n",
       "    </tr>\n",
       "    <tr>\n",
       "      <th>1</th>\n",
       "      <td>2016-01-06</td>\n",
       "      <td>WLTW</td>\n",
       "      <td>125.239998</td>\n",
       "      <td>119.980003</td>\n",
       "      <td>119.940002</td>\n",
       "      <td>125.540001</td>\n",
       "      <td>2386400.0</td>\n",
       "    </tr>\n",
       "    <tr>\n",
       "      <th>2</th>\n",
       "      <td>2016-01-07</td>\n",
       "      <td>WLTW</td>\n",
       "      <td>116.379997</td>\n",
       "      <td>114.949997</td>\n",
       "      <td>114.930000</td>\n",
       "      <td>119.739998</td>\n",
       "      <td>2489500.0</td>\n",
       "    </tr>\n",
       "    <tr>\n",
       "      <th>3</th>\n",
       "      <td>2016-01-08</td>\n",
       "      <td>WLTW</td>\n",
       "      <td>115.480003</td>\n",
       "      <td>116.620003</td>\n",
       "      <td>113.500000</td>\n",
       "      <td>117.440002</td>\n",
       "      <td>2006300.0</td>\n",
       "    </tr>\n",
       "    <tr>\n",
       "      <th>4</th>\n",
       "      <td>2016-01-11</td>\n",
       "      <td>WLTW</td>\n",
       "      <td>117.010002</td>\n",
       "      <td>114.970001</td>\n",
       "      <td>114.089996</td>\n",
       "      <td>117.330002</td>\n",
       "      <td>1408600.0</td>\n",
       "    </tr>\n",
       "  </tbody>\n",
       "</table>\n",
       "</div>"
      ],
      "text/plain": [
       "         date symbol        open       close         low        high  \\\n",
       "0  2016-01-05   WLTW  123.430000  125.839996  122.309998  126.250000   \n",
       "1  2016-01-06   WLTW  125.239998  119.980003  119.940002  125.540001   \n",
       "2  2016-01-07   WLTW  116.379997  114.949997  114.930000  119.739998   \n",
       "3  2016-01-08   WLTW  115.480003  116.620003  113.500000  117.440002   \n",
       "4  2016-01-11   WLTW  117.010002  114.970001  114.089996  117.330002   \n",
       "\n",
       "      volume  \n",
       "0  2163600.0  \n",
       "1  2386400.0  \n",
       "2  2489500.0  \n",
       "3  2006300.0  \n",
       "4  1408600.0  "
      ]
     },
     "execution_count": 73,
     "metadata": {},
     "output_type": "execute_result"
    }
   ],
   "source": [
    "PSA.head()"
   ]
  },
  {
   "cell_type": "code",
   "execution_count": 74,
   "metadata": {},
   "outputs": [
    {
     "data": {
      "text/plain": [
       "851264"
      ]
     },
     "execution_count": 74,
     "metadata": {},
     "output_type": "execute_result"
    }
   ],
   "source": [
    "PSA.symbol.size"
   ]
  },
  {
   "cell_type": "code",
   "execution_count": 75,
   "metadata": {
    "collapsed": true
   },
   "outputs": [],
   "source": [
    "grpby = PSA.groupby('symbol')"
   ]
  },
  {
   "cell_type": "code",
   "execution_count": 133,
   "metadata": {
    "collapsed": true
   },
   "outputs": [],
   "source": [
    "WLTW = pd.DataFrame(grpby.get_group('WLTW'))"
   ]
  },
  {
   "cell_type": "code",
   "execution_count": 134,
   "metadata": {
    "collapsed": true,
    "scrolled": true
   },
   "outputs": [],
   "source": [
    "#having the date as the index makes it easier to access other fields\n",
    "WLTW.set_index('date',inplace =True)"
   ]
  },
  {
   "cell_type": "code",
   "execution_count": 135,
   "metadata": {},
   "outputs": [
    {
     "name": "stdout",
     "output_type": "stream",
     "text": [
      "symbol          WLTW\n",
      "open          125.24\n",
      "close         119.98\n",
      "low           119.94\n",
      "high          125.54\n",
      "volume    2.3864e+06\n",
      "Name: 2016-01-06, dtype: object\n"
     ]
    }
   ],
   "source": [
    "print(WLTW.loc['2016-01-06'])"
   ]
  },
  {
   "cell_type": "code",
   "execution_count": 136,
   "metadata": {},
   "outputs": [
    {
     "data": {
      "text/plain": [
       "125.239998"
      ]
     },
     "execution_count": 136,
     "metadata": {},
     "output_type": "execute_result"
    }
   ],
   "source": [
    "WLTW.loc['2016-01-06'].open"
   ]
  },
  {
   "cell_type": "code",
   "execution_count": 137,
   "metadata": {
    "collapsed": true,
    "scrolled": true
   },
   "outputs": [],
   "source": [
    "whole_data = []\n",
    "for date in WLTW.index:\n",
    "    o = WLTW.loc[date].open\n",
    "    c = WLTW.loc[date].close\n",
    "    h = WLTW.loc[date].high\n",
    "    l = WLTW.loc[date].low\n",
    "    data = [o,c,h,l]\n",
    "    whole_data.append(data)\n",
    "#plt.boxplot(whole_data,labels=WLTW.index)\n",
    "#plt.show()"
   ]
  },
  {
   "cell_type": "code",
   "execution_count": 138,
   "metadata": {
    "collapsed": true
   },
   "outputs": [],
   "source": [
    "whole_data1 = []\n",
    "for date in WLTW.index[:30]:\n",
    "    o = WLTW.loc[date].open\n",
    "    c = WLTW.loc[date].close\n",
    "    h = WLTW.loc[date].high\n",
    "    l = WLTW.loc[date].low\n",
    "    data = [o,c,h,l]\n",
    "    whole_data1.append(data)\n",
    "    \n",
    "#plt.figure(figsize=(50,20))\n",
    "#plt.boxplot(whole_data1,labels=WLTW.index[:30])\n",
    "#x= WLTW.index[:30]\n",
    "#plt.plot(x,8*np.log(WLTW.volume[x]),label='Volume')\n",
    "#plt.plot(x,(WLTW.open[x] + (WLTW.close[x]-WLTW.open[x])/2),label='Avg')\n",
    "#plt.legend()\n",
    "#plt.show()"
   ]
  },
  {
   "cell_type": "code",
   "execution_count": 139,
   "metadata": {
    "collapsed": true
   },
   "outputs": [],
   "source": [
    "adl = []\n",
    "obv = [0]\n",
    "up_down = 1\n",
    "x = WLTW.index[:30]\n",
    "prev_date = x[0]\n",
    "for date in x:\n",
    "    #money flow multiplier\n",
    "    mfm = ((WLTW.loc[date].close - WLTW.loc[date].low) - (WLTW.loc[date].high \n",
    "            - WLTW.loc[date].close))/(WLTW.loc[date].high - WLTW.loc[date].low)\n",
    "    adl_n = mfm*WLTW.loc[date].volume\n",
    "    adl.append(adl_n)\n",
    "    if((WLTW.loc[date].close - WLTW.loc[prev_date].close) >= 0):\n",
    "        up_down = 1\n",
    "    else:\n",
    "        up_down = -1\n",
    "    obv_n = obv[-1] + up_down * WLTW.loc[date].volume\n",
    "    obv.append(obv_n)\n",
    "    prev_date = date\n",
    "obv.remove(0)\n",
    "#plt.figure(figsize=(50,20))\n",
    "#plt.plot(x, adl,label='ADL')\n",
    "#plt.bar(x,WLTW.volume[x], color = 'y')\n",
    "#plt.plot(x,obv,color='r',label='OBV')\n",
    "#plt.legend()\n",
    "#plt.show()"
   ]
  },
  {
   "cell_type": "code",
   "execution_count": 183,
   "metadata": {
    "collapsed": true
   },
   "outputs": [],
   "source": [
    "def accDistLine(stockGroup):\n",
    "    adl = []\n",
    "    for date in stockGroup.index:\n",
    "        o = stockGroup.loc[date].open\n",
    "        c = stockGroup.loc[date].close\n",
    "        h = stockGroup.loc[date].high\n",
    "        l = stockGroup.loc[date].low\n",
    "        #Money Flow Multiplier\n",
    "        mfm = ((c-l)-(h-c))/(h-l)\n",
    "        adl_n = mfm*stockGroup.loc[date].volume\n",
    "        adl.append(adl_n)\n",
    "    stockGroup['ADL'] = pd.Series(adl, index = stockGroup.index)"
   ]
  },
  {
   "cell_type": "code",
   "execution_count": 200,
   "metadata": {
    "collapsed": true
   },
   "outputs": [],
   "source": [
    "def obVolume(stockGroup):\n",
    "    obv = [0]\n",
    "    up_down = 1\n",
    "    x = stockGroup.index\n",
    "    prev_date = x[0]\n",
    "    for date in x:\n",
    "        if((stockGroup.loc[date].close - stockGroup.loc[prev_date].close) >= 0):\n",
    "            up_down = 1\n",
    "        else:\n",
    "            up_down = -1\n",
    "        obv_n = obv[-1] + up_down * stockGroup.loc[date].volume\n",
    "        obv.append(obv_n)\n",
    "        prev_date = date\n",
    "    obv.remove(0)\n",
    "    stockGroup['obV'] = pd.Series(obv, index = stockGroup.index)"
   ]
  },
  {
   "cell_type": "code",
   "execution_count": 197,
   "metadata": {
    "collapsed": true
   },
   "outputs": [],
   "source": [
    "def trueRangeCol(stockGroup):\n",
    "    TR = []\n",
    "    x = stockGroup.index\n",
    "    for date in x:\n",
    "        TR_n = stockGroup.loc[date].high - stockGroup.loc[date].low\n",
    "        TR.append(TR_n)\n",
    "    stockGroup['TR'] = pd.Series(TR, index = stockGroup.index)"
   ]
  },
  {
   "cell_type": "code",
   "execution_count": 186,
   "metadata": {
    "collapsed": true
   },
   "outputs": [],
   "source": [
    "def ATR(stockGroup):\n",
    "    x = stockGroup.index\n",
    "    ATR = []\n",
    "    prev_date = x[13]\n",
    "    atr14 = sum(stockGroup.TR[0:13])/14\n",
    "    ATR.append(atr14)\n",
    "    for date in x[14:]:\n",
    "        ATR_n = (13 * stockGroup.TR[prev_date] + stockGroup.TR[date])/14\n",
    "        ATR.append(ATR_n)\n",
    "    stockGroup['ATR'] = pd.Series(ATR, index = stockGroup.index[13:])"
   ]
  },
  {
   "cell_type": "code",
   "execution_count": 213,
   "metadata": {
    "collapsed": true
   },
   "outputs": [],
   "source": [
    "def highLows(stockGroup):\n",
    "    hph = []\n",
    "    lpl = []\n",
    "    x = stockGroup.index\n",
    "    prev_date = x[0]\n",
    "    for date in x[1:]:\n",
    "        hph_n = stockGroup.high[date] - stockGroup.high[prev_date]\n",
    "        lpl_n = stockGroup.low[date] - stockGroup.low[prev_date]\n",
    "        hph.append(hph_n)\n",
    "        lpl.append(lpl_n)\n",
    "    stockGroup['hph'] = pd.Series(hph, index = stockGroup.index[1:])\n",
    "    stockGroup['lpl'] = pd.Series(lpl, index = stockGroup.index[1:])"
   ]
  },
  {
   "cell_type": "code",
   "execution_count": 219,
   "metadata": {},
   "outputs": [],
   "source": [
    "def smoothDX(stockGroup):\n",
    "    x = stockGroup.index\n",
    "    smoothDXplus = []\n",
    "    for date in x:\n",
    "        if ((stockGroup.hph[date] > stockGroup.lpl[date]) and stockGroup.hph[date] > 0):\n",
    "            smoothDXplus.append(stockGroup.hph[date])\n",
    "        else: \n",
    "            smoothDXplus.append(0)\n",
    "    smoothDXminus = []\n",
    "    for date in x:\n",
    "        if ((stockGroup.lpl[date] > stockGroup.hph[date]) and stockGroup.lpl[date] > 0):\n",
    "            smoothDXminus.append(stockGroup.lpl[date])\n",
    "        else: \n",
    "            smoothDXminus.append(0)\n",
    "    stockGroup['sDXm'] = pd.Series(smoothDXminus, index = stockGroup.index)\n",
    "    stockGroup['sDXp'] = pd.Series(smoothDXplus, index = stockGroup.index)"
   ]
  },
  {
   "cell_type": "code",
   "execution_count": 207,
   "metadata": {},
   "outputs": [],
   "source": [
    "def DMI(stockGroup):\n",
    "    x = stockGroup.index\n",
    "    DMIp = []\n",
    "    DMIm = []\n",
    "    for date in x[14:]:\n",
    "        dmipn = stockGroup.sDXp[date]/stockGroup.ATR[date]\n",
    "        dmimn = stockGroup.sDXm[date]/stockGroup.ATR[date]\n",
    "        DMIp.append(dmipn)\n",
    "        DMIm.append(dmimn)\n",
    "    stockGroup['DMIp'] = pd.Series(DMIp, index = stockGroup.index[14:])\n",
    "    stockGroup['DMIm'] = pd.Series(DMIm, index = stockGroup.index[14:])"
   ]
  },
  {
   "cell_type": "code",
   "execution_count": 247,
   "metadata": {},
   "outputs": [],
   "source": [
    "def DX(stockGroup):\n",
    "    DX = []\n",
    "    x = stockGroup.index\n",
    "    for date in x[14:]:\n",
    "        dxn = 100.00 * abs(stockGroup.DMIp[date] - stockGroup.DMIm[date])/(stockGroup.DMIp[date] + stockGroup.DMIm[date])\n",
    "        DX.append(dxn)\n",
    "    stockGroup['DirX'] = pd.Series(DX, index = stockGroup.index[14:])"
   ]
  },
  {
   "cell_type": "code",
   "execution_count": 249,
   "metadata": {
    "collapsed": true
   },
   "outputs": [],
   "source": [
    "def ADX(stockGroup):\n",
    "    #i have to put these into series and add to the main dataframe of the stock\n",
    "    #also check the ranges on everything cause there'll be empty cells\n",
    "    ADX = []\n",
    "    prev_date = stockGroup.index[29]\n",
    "    adx14 = sum(stockGroup.DirX[14:28])/14\n",
    "    #ADX.append(adx14)\n",
    "    for date in stockGroup.index[29:]:\n",
    "        adxn = (stockGroup.DirX[prev_date] * 13 + stockGroup.DirX[date]) / 14\n",
    "        ADX.append(adxn)\n",
    "        prev_date = date\n",
    "    stockGroup['ADX'] = pd.Series(ADX, index = stockGroup.index[29:])"
   ]
  },
  {
   "cell_type": "code",
   "execution_count": 192,
   "metadata": {
    "collapsed": true
   },
   "outputs": [],
   "source": [
    "#can separate and access things using %run notebookName.ipynb\n",
    "#basically mimic a project"
   ]
  },
  {
   "cell_type": "code",
   "execution_count": 193,
   "metadata": {
    "collapsed": true
   },
   "outputs": [],
   "source": []
  },
  {
   "cell_type": "code",
   "execution_count": 208,
   "metadata": {
    "collapsed": true
   },
   "outputs": [],
   "source": [
    "def setUp(sG):\n",
    "    accDistLine(sG)\n",
    "    trueRangeCol(sG)\n",
    "    obVolume(sG)\n",
    "    ATR(sG)\n",
    "    highLows(sG)\n",
    "    smoothDX(sG)\n",
    "    DMI(sG)\n",
    "    DX(sG)\n",
    "    ADX(sG)"
   ]
  },
  {
   "cell_type": "code",
   "execution_count": 250,
   "metadata": {},
   "outputs": [
    {
     "name": "stderr",
     "output_type": "stream",
     "text": [
      "/anaconda3/lib/python3.6/site-packages/ipykernel_launcher.py:5: RuntimeWarning: invalid value encountered in double_scalars\n",
      "  \"\"\"\n"
     ]
    }
   ],
   "source": [
    "setUp(WLTW)"
   ]
  },
  {
   "cell_type": "code",
   "execution_count": 254,
   "metadata": {},
   "outputs": [],
   "source": [
    "WLTW = WLTW.fillna(0)"
   ]
  },
  {
   "cell_type": "code",
   "execution_count": 256,
   "metadata": {},
   "outputs": [
    {
     "data": {
      "text/html": [
       "<div>\n",
       "<style>\n",
       "    .dataframe thead tr:only-child th {\n",
       "        text-align: right;\n",
       "    }\n",
       "\n",
       "    .dataframe thead th {\n",
       "        text-align: left;\n",
       "    }\n",
       "\n",
       "    .dataframe tbody tr th {\n",
       "        vertical-align: top;\n",
       "    }\n",
       "</style>\n",
       "<table border=\"1\" class=\"dataframe\">\n",
       "  <thead>\n",
       "    <tr style=\"text-align: right;\">\n",
       "      <th></th>\n",
       "      <th>symbol</th>\n",
       "      <th>open</th>\n",
       "      <th>close</th>\n",
       "      <th>low</th>\n",
       "      <th>high</th>\n",
       "      <th>volume</th>\n",
       "      <th>ADL</th>\n",
       "      <th>TR</th>\n",
       "      <th>obV</th>\n",
       "      <th>ATR</th>\n",
       "      <th>...</th>\n",
       "      <th>LpL</th>\n",
       "      <th>hph</th>\n",
       "      <th>lpl</th>\n",
       "      <th>sDXm</th>\n",
       "      <th>sDXp</th>\n",
       "      <th>DMIp</th>\n",
       "      <th>DMIm</th>\n",
       "      <th>DX</th>\n",
       "      <th>DirX</th>\n",
       "      <th>ADX</th>\n",
       "    </tr>\n",
       "    <tr>\n",
       "      <th>date</th>\n",
       "      <th></th>\n",
       "      <th></th>\n",
       "      <th></th>\n",
       "      <th></th>\n",
       "      <th></th>\n",
       "      <th></th>\n",
       "      <th></th>\n",
       "      <th></th>\n",
       "      <th></th>\n",
       "      <th></th>\n",
       "      <th></th>\n",
       "      <th></th>\n",
       "      <th></th>\n",
       "      <th></th>\n",
       "      <th></th>\n",
       "      <th></th>\n",
       "      <th></th>\n",
       "      <th></th>\n",
       "      <th></th>\n",
       "      <th></th>\n",
       "      <th></th>\n",
       "    </tr>\n",
       "  </thead>\n",
       "  <tbody>\n",
       "    <tr>\n",
       "      <th>2016-01-05</th>\n",
       "      <td>WLTW</td>\n",
       "      <td>123.430000</td>\n",
       "      <td>125.839996</td>\n",
       "      <td>122.309998</td>\n",
       "      <td>126.250000</td>\n",
       "      <td>2163600.0</td>\n",
       "      <td>1.713303e+06</td>\n",
       "      <td>3.940002</td>\n",
       "      <td>2163600.0</td>\n",
       "      <td>0.0</td>\n",
       "      <td>...</td>\n",
       "      <td>0.000000</td>\n",
       "      <td>0.000000</td>\n",
       "      <td>0.000000</td>\n",
       "      <td>0.0</td>\n",
       "      <td>0.0</td>\n",
       "      <td>0.0</td>\n",
       "      <td>0.0</td>\n",
       "      <td>0.0</td>\n",
       "      <td>0.0</td>\n",
       "      <td>0.0</td>\n",
       "    </tr>\n",
       "    <tr>\n",
       "      <th>2016-01-06</th>\n",
       "      <td>WLTW</td>\n",
       "      <td>125.239998</td>\n",
       "      <td>119.980003</td>\n",
       "      <td>119.940002</td>\n",
       "      <td>125.540001</td>\n",
       "      <td>2386400.0</td>\n",
       "      <td>-2.352308e+06</td>\n",
       "      <td>5.599999</td>\n",
       "      <td>-222800.0</td>\n",
       "      <td>0.0</td>\n",
       "      <td>...</td>\n",
       "      <td>-2.369996</td>\n",
       "      <td>-0.709999</td>\n",
       "      <td>-2.369996</td>\n",
       "      <td>0.0</td>\n",
       "      <td>0.0</td>\n",
       "      <td>0.0</td>\n",
       "      <td>0.0</td>\n",
       "      <td>0.0</td>\n",
       "      <td>0.0</td>\n",
       "      <td>0.0</td>\n",
       "    </tr>\n",
       "    <tr>\n",
       "      <th>2016-01-07</th>\n",
       "      <td>WLTW</td>\n",
       "      <td>116.379997</td>\n",
       "      <td>114.949997</td>\n",
       "      <td>114.930000</td>\n",
       "      <td>119.739998</td>\n",
       "      <td>2489500.0</td>\n",
       "      <td>-2.468800e+06</td>\n",
       "      <td>4.809998</td>\n",
       "      <td>-2712300.0</td>\n",
       "      <td>0.0</td>\n",
       "      <td>...</td>\n",
       "      <td>-7.379998</td>\n",
       "      <td>-6.510002</td>\n",
       "      <td>-7.379998</td>\n",
       "      <td>0.0</td>\n",
       "      <td>0.0</td>\n",
       "      <td>0.0</td>\n",
       "      <td>0.0</td>\n",
       "      <td>0.0</td>\n",
       "      <td>0.0</td>\n",
       "      <td>0.0</td>\n",
       "    </tr>\n",
       "    <tr>\n",
       "      <th>2016-01-08</th>\n",
       "      <td>WLTW</td>\n",
       "      <td>115.480003</td>\n",
       "      <td>116.620003</td>\n",
       "      <td>113.500000</td>\n",
       "      <td>117.440002</td>\n",
       "      <td>2006300.0</td>\n",
       "      <td>1.171192e+06</td>\n",
       "      <td>3.940002</td>\n",
       "      <td>-706000.0</td>\n",
       "      <td>0.0</td>\n",
       "      <td>...</td>\n",
       "      <td>-8.809998</td>\n",
       "      <td>-8.809998</td>\n",
       "      <td>-8.809998</td>\n",
       "      <td>0.0</td>\n",
       "      <td>0.0</td>\n",
       "      <td>0.0</td>\n",
       "      <td>0.0</td>\n",
       "      <td>0.0</td>\n",
       "      <td>0.0</td>\n",
       "      <td>0.0</td>\n",
       "    </tr>\n",
       "    <tr>\n",
       "      <th>2016-01-11</th>\n",
       "      <td>WLTW</td>\n",
       "      <td>117.010002</td>\n",
       "      <td>114.970001</td>\n",
       "      <td>114.089996</td>\n",
       "      <td>117.330002</td>\n",
       "      <td>1408600.0</td>\n",
       "      <td>-6.434316e+05</td>\n",
       "      <td>3.240006</td>\n",
       "      <td>-2114600.0</td>\n",
       "      <td>0.0</td>\n",
       "      <td>...</td>\n",
       "      <td>-8.220002</td>\n",
       "      <td>-8.919998</td>\n",
       "      <td>-8.220002</td>\n",
       "      <td>0.0</td>\n",
       "      <td>0.0</td>\n",
       "      <td>0.0</td>\n",
       "      <td>0.0</td>\n",
       "      <td>0.0</td>\n",
       "      <td>0.0</td>\n",
       "      <td>0.0</td>\n",
       "    </tr>\n",
       "  </tbody>\n",
       "</table>\n",
       "<p>5 rows × 21 columns</p>\n",
       "</div>"
      ],
      "text/plain": [
       "           symbol        open       close         low        high     volume  \\\n",
       "date                                                                           \n",
       "2016-01-05   WLTW  123.430000  125.839996  122.309998  126.250000  2163600.0   \n",
       "2016-01-06   WLTW  125.239998  119.980003  119.940002  125.540001  2386400.0   \n",
       "2016-01-07   WLTW  116.379997  114.949997  114.930000  119.739998  2489500.0   \n",
       "2016-01-08   WLTW  115.480003  116.620003  113.500000  117.440002  2006300.0   \n",
       "2016-01-11   WLTW  117.010002  114.970001  114.089996  117.330002  1408600.0   \n",
       "\n",
       "                     ADL        TR        obV  ATR ...        LpL       hph  \\\n",
       "date                                               ...                        \n",
       "2016-01-05  1.713303e+06  3.940002  2163600.0  0.0 ...   0.000000  0.000000   \n",
       "2016-01-06 -2.352308e+06  5.599999  -222800.0  0.0 ...  -2.369996 -0.709999   \n",
       "2016-01-07 -2.468800e+06  4.809998 -2712300.0  0.0 ...  -7.379998 -6.510002   \n",
       "2016-01-08  1.171192e+06  3.940002  -706000.0  0.0 ...  -8.809998 -8.809998   \n",
       "2016-01-11 -6.434316e+05  3.240006 -2114600.0  0.0 ...  -8.220002 -8.919998   \n",
       "\n",
       "                 lpl  sDXm  sDXp  DMIp  DMIm   DX  DirX  ADX  \n",
       "date                                                          \n",
       "2016-01-05  0.000000   0.0   0.0   0.0   0.0  0.0   0.0  0.0  \n",
       "2016-01-06 -2.369996   0.0   0.0   0.0   0.0  0.0   0.0  0.0  \n",
       "2016-01-07 -7.379998   0.0   0.0   0.0   0.0  0.0   0.0  0.0  \n",
       "2016-01-08 -8.809998   0.0   0.0   0.0   0.0  0.0   0.0  0.0  \n",
       "2016-01-11 -8.220002   0.0   0.0   0.0   0.0  0.0   0.0  0.0  \n",
       "\n",
       "[5 rows x 21 columns]"
      ]
     },
     "execution_count": 256,
     "metadata": {},
     "output_type": "execute_result"
    }
   ],
   "source": [
    "WLTW.head()"
   ]
  },
  {
   "cell_type": "code",
   "execution_count": 263,
   "metadata": {},
   "outputs": [
    {
     "name": "stdout",
     "output_type": "stream",
     "text": [
      "date\n",
      "2016-01-05           NaN\n",
      "2016-01-06           NaN\n",
      "2016-01-07           NaN\n",
      "2016-01-08           NaN\n",
      "2016-01-11    118.472000\n",
      "2016-01-12    116.414001\n",
      "2016-01-13    114.988000\n",
      "2016-01-14    114.874000\n",
      "2016-01-15    114.056000\n",
      "2016-01-19    113.137999\n",
      "2016-01-20    111.887999\n",
      "2016-01-21    111.317999\n",
      "2016-01-22    110.831999\n",
      "2016-01-25    110.350000\n",
      "2016-01-26    110.474001\n",
      "2016-01-27    110.756000\n",
      "2016-01-28    111.272000\n",
      "2016-01-29    111.776001\n",
      "2016-02-01    112.652000\n",
      "2016-02-02    112.564000\n",
      "2016-02-03    113.232001\n",
      "2016-02-04    113.858000\n",
      "2016-02-05    113.767999\n",
      "2016-02-08    113.100000\n",
      "2016-02-09    113.118001\n",
      "2016-02-10    111.812000\n",
      "2016-02-11    110.095999\n",
      "2016-02-12    108.859999\n",
      "2016-02-16    108.781998\n",
      "2016-02-17    108.899997\n",
      "                 ...    \n",
      "2016-11-17    122.914000\n",
      "2016-11-18    123.581999\n",
      "2016-11-21    123.861999\n",
      "2016-11-22    124.159999\n",
      "2016-11-23    124.537999\n",
      "2016-11-25    124.678000\n",
      "2016-11-28    124.588001\n",
      "2016-11-29    124.686000\n",
      "2016-11-30    124.596001\n",
      "2016-12-01    123.968001\n",
      "2016-12-02    122.896001\n",
      "2016-12-05    122.318001\n",
      "2016-12-06    122.394002\n",
      "2016-12-07    122.470001\n",
      "2016-12-08    122.786001\n",
      "2016-12-09    123.356001\n",
      "2016-12-12    123.302000\n",
      "2016-12-13    123.242000\n",
      "2016-12-14    122.744000\n",
      "2016-12-15    122.618001\n",
      "2016-12-16    122.526001\n",
      "2016-12-19    123.010001\n",
      "2016-12-20    122.886000\n",
      "2016-12-21    123.031999\n",
      "2016-12-22    123.127998\n",
      "2016-12-23    123.559997\n",
      "2016-12-27    123.689998\n",
      "2016-12-28    123.397998\n",
      "2016-12-29    123.233998\n",
      "2016-12-30    123.119998\n",
      "Name: close, Length: 251, dtype: float64\n"
     ]
    }
   ],
   "source": [
    "print(WLTW.close.rolling(5).mean())"
   ]
  },
  {
   "cell_type": "code",
   "execution_count": null,
   "metadata": {
    "collapsed": true
   },
   "outputs": [],
   "source": []
  }
 ],
 "metadata": {
  "kernelspec": {
   "display_name": "Python 3",
   "language": "python",
   "name": "python3"
  },
  "language_info": {
   "codemirror_mode": {
    "name": "ipython",
    "version": 3
   },
   "file_extension": ".py",
   "mimetype": "text/x-python",
   "name": "python",
   "nbconvert_exporter": "python",
   "pygments_lexer": "ipython3",
   "version": "3.6.3"
  }
 },
 "nbformat": 4,
 "nbformat_minor": 2
}
